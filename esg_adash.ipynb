{
  "nbformat": 4,
  "nbformat_minor": 0,
  "metadata": {
    "colab": {
      "name": "esg_adash.ipynb",
      "provenance": [],
      "collapsed_sections": [],
      "authorship_tag": "ABX9TyM7oI7IIcSup0GaAsihukM+",
      "include_colab_link": true
    },
    "kernelspec": {
      "name": "python3",
      "display_name": "Python 3"
    },
    "language_info": {
      "name": "python"
    }
  },
  "cells": [
    {
      "cell_type": "markdown",
      "metadata": {
        "id": "view-in-github",
        "colab_type": "text"
      },
      "source": [
        "<a href=\"https://colab.research.google.com/github/dprzek/esg/blob/main/esg_adash.ipynb\" target=\"_parent\"><img src=\"https://colab.research.google.com/assets/colab-badge.svg\" alt=\"Open In Colab\"/></a>"
      ]
    },
    {
      "cell_type": "code",
      "execution_count": 25,
      "metadata": {
        "id": "Am-uFLdw8atX"
      },
      "outputs": [],
      "source": [
        "# biblioteki i pakiety\n",
        "import numpy as np\n",
        "import statsmodels.api as sm\n",
        "from sklearn.cluster import KMeans\n"
      ]
    },
    {
      "cell_type": "markdown",
      "source": [
        "Ładowanie syntetycznych danych z załączonej CSV-ki"
      ],
      "metadata": {
        "id": "uHjAqxJhCDSs"
      }
    },
    {
      "cell_type": "code",
      "source": [
        "data = pd.read_csv(\"esg_data.csv\", sep = ';') \n",
        "data.head()"
      ],
      "metadata": {
        "colab": {
          "base_uri": "https://localhost:8080/",
          "height": 270
        },
        "id": "QrWDoDShBwp9",
        "outputId": "7c072959-d96e-473f-8c1a-e2b8a227de87"
      },
      "execution_count": 2,
      "outputs": [
        {
          "output_type": "execute_result",
          "data": {
            "text/plain": [
              "   entity_id  year  construction_year  capital_renovation_year  emission_CO2  \\\n",
              "0       1001  2017               1954                     2008    232.672663   \n",
              "1       1001  2018               1954                     2008    230.728456   \n",
              "2       1001  2019               1954                     2008    234.708260   \n",
              "3       1001  2020               1954                     2008    257.536767   \n",
              "4       1001  2021               1954                     2008    228.861484   \n",
              "\n",
              "   emission_CH4  emission_SO2  power_thermal  power_electrical  \\\n",
              "0      3.618711      1.097147           1400               386   \n",
              "1      3.534175      0.944533           1400               386   \n",
              "2      3.674400      1.021560           1400               386   \n",
              "3      3.700645      0.987547           1400               386   \n",
              "4      4.106222      1.206645           1500               400   \n",
              "\n",
              "   no_boilers_fluidized  no_boilers_water  no_boilers_steam  fuel_coal_mio_t  \\\n",
              "0                     2                 2                 1              1.0   \n",
              "1                     2                 2                 1              1.0   \n",
              "2                     2                 2                 1              1.0   \n",
              "3                     2                 2                 1              1.0   \n",
              "4                     2                 1                 2              1.0   \n",
              "\n",
              "   fuel_gas_mio_m3  fuel_oil_mio_l  filter_coverage  \n",
              "0              500             400             0.89  \n",
              "1              500             400             0.89  \n",
              "2              500             400             0.89  \n",
              "3              500             400             0.89  \n",
              "4              500             440             0.93  "
            ],
            "text/html": [
              "\n",
              "  <div id=\"df-fc5673a9-99e3-4b90-a5ce-ebe9dd18dc09\">\n",
              "    <div class=\"colab-df-container\">\n",
              "      <div>\n",
              "<style scoped>\n",
              "    .dataframe tbody tr th:only-of-type {\n",
              "        vertical-align: middle;\n",
              "    }\n",
              "\n",
              "    .dataframe tbody tr th {\n",
              "        vertical-align: top;\n",
              "    }\n",
              "\n",
              "    .dataframe thead th {\n",
              "        text-align: right;\n",
              "    }\n",
              "</style>\n",
              "<table border=\"1\" class=\"dataframe\">\n",
              "  <thead>\n",
              "    <tr style=\"text-align: right;\">\n",
              "      <th></th>\n",
              "      <th>entity_id</th>\n",
              "      <th>year</th>\n",
              "      <th>construction_year</th>\n",
              "      <th>capital_renovation_year</th>\n",
              "      <th>emission_CO2</th>\n",
              "      <th>emission_CH4</th>\n",
              "      <th>emission_SO2</th>\n",
              "      <th>power_thermal</th>\n",
              "      <th>power_electrical</th>\n",
              "      <th>no_boilers_fluidized</th>\n",
              "      <th>no_boilers_water</th>\n",
              "      <th>no_boilers_steam</th>\n",
              "      <th>fuel_coal_mio_t</th>\n",
              "      <th>fuel_gas_mio_m3</th>\n",
              "      <th>fuel_oil_mio_l</th>\n",
              "      <th>filter_coverage</th>\n",
              "    </tr>\n",
              "  </thead>\n",
              "  <tbody>\n",
              "    <tr>\n",
              "      <th>0</th>\n",
              "      <td>1001</td>\n",
              "      <td>2017</td>\n",
              "      <td>1954</td>\n",
              "      <td>2008</td>\n",
              "      <td>232.672663</td>\n",
              "      <td>3.618711</td>\n",
              "      <td>1.097147</td>\n",
              "      <td>1400</td>\n",
              "      <td>386</td>\n",
              "      <td>2</td>\n",
              "      <td>2</td>\n",
              "      <td>1</td>\n",
              "      <td>1.0</td>\n",
              "      <td>500</td>\n",
              "      <td>400</td>\n",
              "      <td>0.89</td>\n",
              "    </tr>\n",
              "    <tr>\n",
              "      <th>1</th>\n",
              "      <td>1001</td>\n",
              "      <td>2018</td>\n",
              "      <td>1954</td>\n",
              "      <td>2008</td>\n",
              "      <td>230.728456</td>\n",
              "      <td>3.534175</td>\n",
              "      <td>0.944533</td>\n",
              "      <td>1400</td>\n",
              "      <td>386</td>\n",
              "      <td>2</td>\n",
              "      <td>2</td>\n",
              "      <td>1</td>\n",
              "      <td>1.0</td>\n",
              "      <td>500</td>\n",
              "      <td>400</td>\n",
              "      <td>0.89</td>\n",
              "    </tr>\n",
              "    <tr>\n",
              "      <th>2</th>\n",
              "      <td>1001</td>\n",
              "      <td>2019</td>\n",
              "      <td>1954</td>\n",
              "      <td>2008</td>\n",
              "      <td>234.708260</td>\n",
              "      <td>3.674400</td>\n",
              "      <td>1.021560</td>\n",
              "      <td>1400</td>\n",
              "      <td>386</td>\n",
              "      <td>2</td>\n",
              "      <td>2</td>\n",
              "      <td>1</td>\n",
              "      <td>1.0</td>\n",
              "      <td>500</td>\n",
              "      <td>400</td>\n",
              "      <td>0.89</td>\n",
              "    </tr>\n",
              "    <tr>\n",
              "      <th>3</th>\n",
              "      <td>1001</td>\n",
              "      <td>2020</td>\n",
              "      <td>1954</td>\n",
              "      <td>2008</td>\n",
              "      <td>257.536767</td>\n",
              "      <td>3.700645</td>\n",
              "      <td>0.987547</td>\n",
              "      <td>1400</td>\n",
              "      <td>386</td>\n",
              "      <td>2</td>\n",
              "      <td>2</td>\n",
              "      <td>1</td>\n",
              "      <td>1.0</td>\n",
              "      <td>500</td>\n",
              "      <td>400</td>\n",
              "      <td>0.89</td>\n",
              "    </tr>\n",
              "    <tr>\n",
              "      <th>4</th>\n",
              "      <td>1001</td>\n",
              "      <td>2021</td>\n",
              "      <td>1954</td>\n",
              "      <td>2008</td>\n",
              "      <td>228.861484</td>\n",
              "      <td>4.106222</td>\n",
              "      <td>1.206645</td>\n",
              "      <td>1500</td>\n",
              "      <td>400</td>\n",
              "      <td>2</td>\n",
              "      <td>1</td>\n",
              "      <td>2</td>\n",
              "      <td>1.0</td>\n",
              "      <td>500</td>\n",
              "      <td>440</td>\n",
              "      <td>0.93</td>\n",
              "    </tr>\n",
              "  </tbody>\n",
              "</table>\n",
              "</div>\n",
              "      <button class=\"colab-df-convert\" onclick=\"convertToInteractive('df-fc5673a9-99e3-4b90-a5ce-ebe9dd18dc09')\"\n",
              "              title=\"Convert this dataframe to an interactive table.\"\n",
              "              style=\"display:none;\">\n",
              "        \n",
              "  <svg xmlns=\"http://www.w3.org/2000/svg\" height=\"24px\"viewBox=\"0 0 24 24\"\n",
              "       width=\"24px\">\n",
              "    <path d=\"M0 0h24v24H0V0z\" fill=\"none\"/>\n",
              "    <path d=\"M18.56 5.44l.94 2.06.94-2.06 2.06-.94-2.06-.94-.94-2.06-.94 2.06-2.06.94zm-11 1L8.5 8.5l.94-2.06 2.06-.94-2.06-.94L8.5 2.5l-.94 2.06-2.06.94zm10 10l.94 2.06.94-2.06 2.06-.94-2.06-.94-.94-2.06-.94 2.06-2.06.94z\"/><path d=\"M17.41 7.96l-1.37-1.37c-.4-.4-.92-.59-1.43-.59-.52 0-1.04.2-1.43.59L10.3 9.45l-7.72 7.72c-.78.78-.78 2.05 0 2.83L4 21.41c.39.39.9.59 1.41.59.51 0 1.02-.2 1.41-.59l7.78-7.78 2.81-2.81c.8-.78.8-2.07 0-2.86zM5.41 20L4 18.59l7.72-7.72 1.47 1.35L5.41 20z\"/>\n",
              "  </svg>\n",
              "      </button>\n",
              "      \n",
              "  <style>\n",
              "    .colab-df-container {\n",
              "      display:flex;\n",
              "      flex-wrap:wrap;\n",
              "      gap: 12px;\n",
              "    }\n",
              "\n",
              "    .colab-df-convert {\n",
              "      background-color: #E8F0FE;\n",
              "      border: none;\n",
              "      border-radius: 50%;\n",
              "      cursor: pointer;\n",
              "      display: none;\n",
              "      fill: #1967D2;\n",
              "      height: 32px;\n",
              "      padding: 0 0 0 0;\n",
              "      width: 32px;\n",
              "    }\n",
              "\n",
              "    .colab-df-convert:hover {\n",
              "      background-color: #E2EBFA;\n",
              "      box-shadow: 0px 1px 2px rgba(60, 64, 67, 0.3), 0px 1px 3px 1px rgba(60, 64, 67, 0.15);\n",
              "      fill: #174EA6;\n",
              "    }\n",
              "\n",
              "    [theme=dark] .colab-df-convert {\n",
              "      background-color: #3B4455;\n",
              "      fill: #D2E3FC;\n",
              "    }\n",
              "\n",
              "    [theme=dark] .colab-df-convert:hover {\n",
              "      background-color: #434B5C;\n",
              "      box-shadow: 0px 1px 3px 1px rgba(0, 0, 0, 0.15);\n",
              "      filter: drop-shadow(0px 1px 2px rgba(0, 0, 0, 0.3));\n",
              "      fill: #FFFFFF;\n",
              "    }\n",
              "  </style>\n",
              "\n",
              "      <script>\n",
              "        const buttonEl =\n",
              "          document.querySelector('#df-fc5673a9-99e3-4b90-a5ce-ebe9dd18dc09 button.colab-df-convert');\n",
              "        buttonEl.style.display =\n",
              "          google.colab.kernel.accessAllowed ? 'block' : 'none';\n",
              "\n",
              "        async function convertToInteractive(key) {\n",
              "          const element = document.querySelector('#df-fc5673a9-99e3-4b90-a5ce-ebe9dd18dc09');\n",
              "          const dataTable =\n",
              "            await google.colab.kernel.invokeFunction('convertToInteractive',\n",
              "                                                     [key], {});\n",
              "          if (!dataTable) return;\n",
              "\n",
              "          const docLinkHtml = 'Like what you see? Visit the ' +\n",
              "            '<a target=\"_blank\" href=https://colab.research.google.com/notebooks/data_table.ipynb>data table notebook</a>'\n",
              "            + ' to learn more about interactive tables.';\n",
              "          element.innerHTML = '';\n",
              "          dataTable['output_type'] = 'display_data';\n",
              "          await google.colab.output.renderOutput(dataTable, element);\n",
              "          const docLink = document.createElement('div');\n",
              "          docLink.innerHTML = docLinkHtml;\n",
              "          element.appendChild(docLink);\n",
              "        }\n",
              "      </script>\n",
              "    </div>\n",
              "  </div>\n",
              "  "
            ]
          },
          "metadata": {},
          "execution_count": 2
        }
      ]
    },
    {
      "cell_type": "markdown",
      "source": [
        "**Pierwszy** element analityczny: regresja"
      ],
      "metadata": {
        "id": "H-aOEDW3Cr63"
      }
    },
    {
      "cell_type": "code",
      "source": [
        "model = sm.OLS(data[\"emission_CO2\"],\n",
        "               sm.add_constant(data[['year', 'construction_year', \"capital_renovation_year\",\n",
        "                                    \"power_thermal\",\"power_electrical\",\"no_boilers_fluidized\",\n",
        "                                    \"no_boilers_water\",\"no_boilers_steam\",\"fuel_coal_mio_t\",\n",
        "                                    \"fuel_gas_mio_m3\",\"fuel_oil_mio_l\",\"filter_coverage\"]]))\n",
        "results = model.fit()\n",
        "print(results.summary())"
      ],
      "metadata": {
        "colab": {
          "base_uri": "https://localhost:8080/"
        },
        "id": "czvpxtwc-5H0",
        "outputId": "4af5d165-ff58-4109-c2d2-6108814bb29e"
      },
      "execution_count": 24,
      "outputs": [
        {
          "output_type": "stream",
          "name": "stdout",
          "text": [
            "                            OLS Regression Results                            \n",
            "==============================================================================\n",
            "Dep. Variable:           emission_CO2   R-squared:                       0.941\n",
            "Model:                            OLS   Adj. R-squared:                  0.935\n",
            "Method:                 Least Squares   F-statistic:                     178.4\n",
            "Date:                Wed, 18 May 2022   Prob (F-statistic):           1.68e-76\n",
            "Time:                        12:25:52   Log-Likelihood:                -614.60\n",
            "No. Observations:                 148   AIC:                             1255.\n",
            "Df Residuals:                     135   BIC:                             1294.\n",
            "Df Model:                          12                                         \n",
            "Covariance Type:            nonrobust                                         \n",
            "===========================================================================================\n",
            "                              coef    std err          t      P>|t|      [0.025      0.975]\n",
            "-------------------------------------------------------------------------------------------\n",
            "const                   -2626.9239   2007.221     -1.309      0.193   -6596.590    1342.742\n",
            "year                        1.2273      0.978      1.255      0.211      -0.706       3.161\n",
            "construction_year           0.3756      0.100      3.760      0.000       0.178       0.573\n",
            "capital_renovation_year    -0.2018      0.273     -0.740      0.461      -0.741       0.337\n",
            "power_thermal              -0.0223      0.011     -1.983      0.049      -0.045   -5.44e-05\n",
            "power_electrical            0.0072      0.008      0.861      0.391      -0.009       0.024\n",
            "no_boilers_fluidized        1.0494      3.503      0.300      0.765      -5.878       7.977\n",
            "no_boilers_water            5.1591      1.639      3.147      0.002       1.917       8.401\n",
            "no_boilers_steam            5.7456      1.837      3.128      0.002       2.113       9.378\n",
            "fuel_coal_mio_t            11.3861     10.200      1.116      0.266      -8.785      31.558\n",
            "fuel_gas_mio_m3             0.4893      0.021     23.564      0.000       0.448       0.530\n",
            "fuel_oil_mio_l              0.0569      0.023      2.453      0.015       0.011       0.103\n",
            "filter_coverage          -246.9516     10.263    -24.061      0.000    -267.249    -226.654\n",
            "==============================================================================\n",
            "Omnibus:                        7.385   Durbin-Watson:                   1.728\n",
            "Prob(Omnibus):                  0.025   Jarque-Bera (JB):               12.267\n",
            "Skew:                           0.154   Prob(JB):                      0.00217\n",
            "Kurtosis:                       4.376   Cond. No.                     5.49e+06\n",
            "==============================================================================\n",
            "\n",
            "Warnings:\n",
            "[1] Standard Errors assume that the covariance matrix of the errors is correctly specified.\n",
            "[2] The condition number is large, 5.49e+06. This might indicate that there are\n",
            "strong multicollinearity or other numerical problems.\n"
          ]
        },
        {
          "output_type": "stream",
          "name": "stderr",
          "text": [
            "/usr/local/lib/python3.7/dist-packages/statsmodels/tsa/tsatools.py:117: FutureWarning: In a future version of pandas all arguments of concat except for the argument 'objs' will be keyword-only\n",
            "  x = pd.concat(x[::order], 1)\n"
          ]
        }
      ]
    },
    {
      "cell_type": "markdown",
      "source": [
        "**Drugi** element analityczny: wizualizacja kmeans"
      ],
      "metadata": {
        "id": "pyRDAz1QIvGo"
      }
    },
    {
      "cell_type": "markdown",
      "source": [
        ""
      ],
      "metadata": {
        "id": "FUAAOYS2-54R"
      }
    }
  ]
}